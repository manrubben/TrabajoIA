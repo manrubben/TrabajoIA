{
 "cells": [
  {
   "cell_type": "code",
   "execution_count": 36,
   "metadata": {},
   "outputs": [],
   "source": [
    "import pandas as pd\n",
    "import numpy as np\n",
    "from sklearn import model_selection\n",
    "from sklearn import tree\n",
    "from sklearn import preprocessing\n",
    "\n",
    "titanic_dataset = 'docs/titanic.csv'\n",
    "breast_cancer_dataset = 'docs/breastCancerDataset.csv'\n",
    "\n",
    "titanic = pd.read_csv(titanic_dataset, header=0, delimiter=',', names=['Pclass', 'sex', 'age', 'SibSp', 'Parch', 'Fare', 'Embarked', 'Initial', \n",
    "'Age_band', 'Family_size', 'Alone', 'Fare_cat', 'Deck', 'Title', 'Is_Married', 'Survived']) # se lee el csv y \n",
    "                                                                                            #se indican el nombre de las columnas\n",
    "\n",
    "cancer = pd.read_csv(breast_cancer_dataset, header=0, delimiter=',', names=['mean radius', 'mean texture', 'mean perimeter', 'mean area', \n",
    "'mean smoothness', 'mean compactness', 'mean concavity', 'mean concave points', 'mean symmetry', 'mean fractal dimension', 'radius error', \n",
    "'texture error', 'perimeter error', 'area error', 'smoothness error', 'compactness error', 'concavity error', 'concave points error', \n",
    "'symmetry error', 'fractal dimension error', 'worst radius', 'worst texture', 'worst perimeter', 'worst area', 'worst smoothness', \n",
    "'worst compactness', 'worst concavity', 'worst concave points', 'worst symmetry', 'worst fractal dimension', 'diagnosis'])\n",
    "\n",
    "atributos_titanic = titanic.loc[:, 'Pclass':'Is_Married'] # selección de las columnas de atributos del dataset titanic\n",
    "objetivo_titanic = titanic['Survived'] # selección de la columna objetivo del dataset titanic\n",
    "\n",
    "atributos_cancer = cancer.loc[:, 'mean radius':'worst fractal dimension']\n",
    "objetivo_cancer = cancer['diagnosis']"
   ]
  },
  {
   "cell_type": "code",
   "execution_count": 37,
   "metadata": {},
   "outputs": [],
   "source": [
    "def metodo_evaluacion_robusta(dataset, atributos, objetivo, N_EXP, CV):\n",
    "\n",
    "    codificador_atributos = preprocessing.OrdinalEncoder() # Codificador adecuado para los atributos\n",
    "    codificador_atributos.fit(atributos) \n",
    "    atributos_codificados = codificador_atributos.transform(atributos)\n",
    "\n",
    "    codificador_objetivo = preprocessing.LabelEncoder() # Codificador adecuado para el objetivo\n",
    "    objetivo_codificado = codificador_objetivo.fit_transform(objetivo)\n",
    "    \n",
    "    atributos_entrenamiento, atributos_prueba, objetivo_entrenamiento, objetivo_prueba = model_selection.train_test_split(\n",
    "    atributos_codificados, objetivo_codificado,  # Conjuntos de datos a dividir, usando los mismos índices para ambos\n",
    "    random_state=12345,  # Valor de la semilla aleatoria, para que el muestreo sea reproducible, a pesar de ser aleatorio\n",
    "    test_size=.20  # Tamaño del conjunto de prueba\n",
    "    )  \n",
    "\n",
    "    clasif_arbol_decision = tree.DecisionTreeClassifier() # creamos el clasificador\n",
    "    clasif_arbol_decision.fit(X=atributos_entrenamiento, y=objetivo_entrenamiento)\n",
    "    \n",
    "    lista_promedios = []\n",
    "\n",
    "    for i in range(N_EXP):\n",
    "        #print('Iteración: ',i)\n",
    "        scores = model_selection.cross_val_score(estimator=clasif_arbol_decision, X=atributos_prueba, y=objetivo_prueba, cv=CV, scoring='balanced_accuracy')\n",
    "        #print('Score: ',scores)\n",
    "        promedio = scores.mean()\n",
    "        #print('Promedio: ',scores.mean())\n",
    "        lista_promedios.append(promedio)\n",
    "    \n",
    "    media = sum(lista_promedios)/len(lista_promedios)\n",
    "    return media\n",
    "    "
   ]
  },
  {
   "cell_type": "code",
   "execution_count": 38,
   "metadata": {},
   "outputs": [
    {
     "data": {
      "text/plain": [
       "0.8782142857142858"
      ]
     },
     "execution_count": 38,
     "metadata": {},
     "output_type": "execute_result"
    }
   ],
   "source": [
    "metodo_evaluacion_robusta(cancer, atributos_cancer, objetivo_cancer, 10, 10)"
   ]
  },
  {
   "cell_type": "code",
   "execution_count": 31,
   "metadata": {},
   "outputs": [],
   "source": [
    "def algoritmo_sfs(dataset, D):\n",
    "    solucion_actual = []\n",
    "    solucion = []\n",
    "    k=0\n",
    "    variables_predictoras = dataset.columns.tolist()\n",
    "    \n",
    "    nombre_objetivo = variables_predictoras.pop(len(variables_predictoras)-1)\n",
    "    objetivo = dataset[nombre_objetivo]\n",
    "    variables_sin_añadir = variables_predictoras\n",
    "    i=1\n",
    "    while k < D:\n",
    "        #variables_sin_añadir = list(set(variables_predictoras) - set(solucion_actual))\n",
    "        #print('Variables sin añadir: ', variables_sin_añadir)\n",
    "        lista_scores = []\n",
    "        lista_sol = []\n",
    "        for v in variables_sin_añadir:\n",
    "            lista_sol = solucion_actual\n",
    "            lista_sol.append(dataset[v])\n",
    "            #solucion_actual.append(dataset[v])\n",
    "            #print('Solucion actual: ', solucion_actual)\n",
    "            solucion_temporal = lista_sol\n",
    "            solucion_temporal = np.reshape(np.ravel(lista_sol), (891,i+k))\n",
    "            #print(solucion_temporal)\n",
    "            score = metodo_evaluacion_robusta(dataset, solucion_temporal, objetivo, 1, 3)\n",
    "            lista_scores.append(score)\n",
    "            i=i+1\n",
    "        #print('Lista de scores: ',lista_scores)\n",
    "        mejor_promedio = np.amax(lista_scores)\n",
    "        mejor_solucion_temporal = variables_sin_añadir[lista_scores.index(mejor_promedio)]\n",
    "        #print('Mejor solucion temporal: ', mejor_solucion_temporal)\n",
    "        solucion_actual.append(dataset[mejor_solucion_temporal])\n",
    "        solucion.append(mejor_solucion_temporal)\n",
    "        #lista_tabla.append(solucion)\n",
    "        print('Solucion: ', solucion)\n",
    "        #solucion_actual.append(variables_sin_añadir[lista_scores.index(mejor_solucion_temporal)])\n",
    "        variables_sin_añadir.remove(variables_sin_añadir[lista_scores.index(mejor_promedio)])\n",
    "        #print('Solucion actual: ',solucion_actual)\n",
    "        k=k+1\n",
    "\n",
    "    print(\"\\nTabla respuesta:\\n\")\n",
    "    for j in range (0,D):\n",
    "        frame_data={'solution':solucion}\n",
    "    df=pd.DataFrame(frame_data)\n",
    "\n",
    "    return df"
   ]
  },
  {
   "cell_type": "code",
   "execution_count": 32,
   "metadata": {},
   "outputs": [
    {
     "name": "stdout",
     "output_type": "stream",
     "text": [
      "Solucion:  ['Pclass']\n",
      "Solucion:  ['Pclass', 'Family_size']\n",
      "Solucion:  ['Pclass', 'Family_size', 'SibSp']\n",
      "Solucion:  ['Pclass', 'Family_size', 'SibSp', 'Fare_cat']\n",
      "Solucion:  ['Pclass', 'Family_size', 'SibSp', 'Fare_cat', 'Parch']\n",
      "\n",
      "Tabla respuesta:\n",
      "\n"
     ]
    },
    {
     "data": {
      "text/html": [
       "<div>\n",
       "<style scoped>\n",
       "    .dataframe tbody tr th:only-of-type {\n",
       "        vertical-align: middle;\n",
       "    }\n",
       "\n",
       "    .dataframe tbody tr th {\n",
       "        vertical-align: top;\n",
       "    }\n",
       "\n",
       "    .dataframe thead th {\n",
       "        text-align: right;\n",
       "    }\n",
       "</style>\n",
       "<table border=\"1\" class=\"dataframe\">\n",
       "  <thead>\n",
       "    <tr style=\"text-align: right;\">\n",
       "      <th></th>\n",
       "      <th>solution</th>\n",
       "    </tr>\n",
       "  </thead>\n",
       "  <tbody>\n",
       "    <tr>\n",
       "      <th>0</th>\n",
       "      <td>Pclass</td>\n",
       "    </tr>\n",
       "    <tr>\n",
       "      <th>1</th>\n",
       "      <td>Family_size</td>\n",
       "    </tr>\n",
       "    <tr>\n",
       "      <th>2</th>\n",
       "      <td>SibSp</td>\n",
       "    </tr>\n",
       "    <tr>\n",
       "      <th>3</th>\n",
       "      <td>Fare_cat</td>\n",
       "    </tr>\n",
       "    <tr>\n",
       "      <th>4</th>\n",
       "      <td>Parch</td>\n",
       "    </tr>\n",
       "  </tbody>\n",
       "</table>\n",
       "</div>"
      ],
      "text/plain": [
       "      solution\n",
       "0       Pclass\n",
       "1  Family_size\n",
       "2        SibSp\n",
       "3     Fare_cat\n",
       "4        Parch"
      ]
     },
     "execution_count": 32,
     "metadata": {},
     "output_type": "execute_result"
    }
   ],
   "source": [
    "algoritmo_sfs(titanic, 5)"
   ]
  },
  {
   "cell_type": "code",
   "execution_count": null,
   "metadata": {},
   "outputs": [],
   "source": []
  }
 ],
 "metadata": {
  "kernelspec": {
   "display_name": "Python 3",
   "language": "python",
   "name": "python3"
  },
  "language_info": {
   "codemirror_mode": {
    "name": "ipython",
    "version": 3
   },
   "file_extension": ".py",
   "mimetype": "text/x-python",
   "name": "python",
   "nbconvert_exporter": "python",
   "pygments_lexer": "ipython3",
   "version": "3.7.6"
  }
 },
 "nbformat": 4,
 "nbformat_minor": 4
}
