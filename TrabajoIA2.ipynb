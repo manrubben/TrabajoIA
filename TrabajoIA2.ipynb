{
 "cells": [
  {
   "cell_type": "code",
   "execution_count": 1,
   "metadata": {},
   "outputs": [],
   "source": [
    "import pandas as pd\n",
    "import numpy as np\n",
    "from sklearn import model_selection\n",
    "from sklearn import tree\n",
    "from sklearn import preprocessing\n",
    "\n",
    "titanic_dataset = 'docs/titanic2.csv'\n",
    "breast_cancer_dataset = 'docs/breast_cancer_dataset.csv'\n",
    "\n",
    "titanic = pd.read_csv(titanic_dataset, header=None, delimiter=',', names=['Pclass', 'sex', 'age', 'SibSp', 'Parch', 'Fare', 'Embarked', 'Initial', 'Age_band', \n",
    "'Family_size', 'Alone', 'Fare_cat', 'Deck', 'Title', 'Is_Married', 'Survived']) # se lee el csv y se indican el nombre de las columnas\n",
    "\n",
    "atributos_titanic = titanic.loc[:, 'Pclass':'Is_Married'] # selección de las columnas de atributos\n",
    "objetivo_titanic = titanic['Survived'] # selección de la columna objetivo"
   ]
  },
  {
   "cell_type": "code",
   "execution_count": 9,
   "metadata": {},
   "outputs": [],
   "source": [
    "def metodo_evaluacion_robusta(dataset, atributos, objetivo, N_EXP, CV):\n",
    "\n",
    "    codificador_atributos = preprocessing.OrdinalEncoder() # Codificador adecuado para los atributos\n",
    "    codificador_atributos.fit(atributos) \n",
    "    atributos_codificados = codificador_atributos.transform(atributos)\n",
    "    #print('Atributos codificados: ',atributos_codificados)\n",
    "    #print('Tamaño x: ',atributos_codificados.shape)\n",
    "\n",
    "    codificador_objetivo = preprocessing.LabelEncoder() # Codificador adecuado para el objetivo\n",
    "    objetivo_codificado = codificador_objetivo.fit_transform(objetivo)\n",
    "    #print('Tamaño y: ',objetivo_codificado.shape)\n",
    "    \n",
    "    #print(codificador_objetivo.classes_)  # Clases detectadas por el codificador para la variable objetivo\n",
    "    #print('Objetivo codificado: ',objetivo_codificado)\n",
    "    #print(codificador_objetivo.inverse_transform([0, 1])) #Ordena alfabéticamente\n",
    "\n",
    "    #print(dataset.shape[0])  # Cantidad total de ejemplos\n",
    "    #print(pd.Series(objetivo).value_counts(normalize=True))  # Frecuencia total de cada clase de aceptabilidad\n",
    "\n",
    "    # Dividimos en conjuntos de entrenamiento y prueba los atributos y el objetivo codificado\n",
    "    atributos_entrenamiento, atributos_prueba, objetivo_entrenamiento, objetivo_prueba = model_selection.train_test_split(\n",
    "    atributos_codificados, objetivo_codificado,  # Conjuntos de datos a dividir, usando los mismos índices para ambos\n",
    "    random_state=12345,  # Valor de la semilla aleatoria, para que el muestreo sea reproducible, a pesar de ser aleatorio\n",
    "    test_size=.20  # Tamaño del conjunto de prueba\n",
    "    )  \n",
    "\n",
    "    clasif_arbol_decision = tree.DecisionTreeClassifier() # creamos el clasificador\n",
    "    clasif_arbol_decision.fit(X=atributos_entrenamiento, y=objetivo_entrenamiento)\n",
    "\n",
    "    for i in range(N_EXP):\n",
    "        print('Iteración: ',i)\n",
    "        scores = model_selection.cross_val_score(estimator=clasif_arbol_decision, X=atributos_prueba, y=objetivo_prueba, cv=CV, scoring='balanced_accuracy')\n",
    "        print('Score: ',scores)\n",
    "        promedio = scores.mean()\n",
    "        print('Promedio: ',scores.mean())\n",
    "        \n",
    "    return promedio\n",
    "    "
   ]
  },
  {
   "cell_type": "code",
   "execution_count": 10,
   "metadata": {},
   "outputs": [
    {
     "name": "stdout",
     "output_type": "stream",
     "text": [
      "Iteración:  0\n",
      "Score:  [0.74025974 0.72077922 0.67532468 0.67532468 0.6038961  0.7625\n",
      " 0.8        0.5625     0.6375     0.75714286]\n",
      "Promedio:  0.6935227272727273\n",
      "Iteración:  1\n",
      "Score:  [0.69480519 0.83766234 0.67532468 0.72077922 0.6038961  0.7\n",
      " 0.9        0.5625     0.6375     0.70714286]\n",
      "Promedio:  0.7039610389610389\n",
      "Iteración:  2\n",
      "Score:  [0.81168831 0.72077922 0.67532468 0.67532468 0.64935065 0.7\n",
      " 0.85       0.5125     0.6375     0.70714286]\n",
      "Promedio:  0.6939610389610389\n",
      "Iteración:  3\n",
      "Score:  [0.76623377 0.83766234 0.67532468 0.72077922 0.57792208 0.775\n",
      " 0.85       0.6125     0.6375     0.80714286]\n",
      "Promedio:  0.7260064935064935\n",
      "Iteración:  4\n",
      "Score:  [0.85714286 0.69480519 0.67532468 0.72077922 0.6038961  0.65\n",
      " 0.85       0.6125     0.7        0.80714286]\n",
      "Promedio:  0.7171590909090908\n",
      "Iteración:  5\n",
      "Score:  [0.88311688 0.83766234 0.67532468 0.72077922 0.57792208 0.7\n",
      " 0.8        0.6125     0.6375     0.75714286]\n",
      "Promedio:  0.7201948051948053\n",
      "Iteración:  6\n",
      "Score:  [0.85714286 0.79220779 0.67532468 0.72077922 0.6038961  0.65\n",
      " 0.85       0.5625     0.6375     0.80714286]\n",
      "Promedio:  0.7156493506493506\n",
      "Iteración:  7\n",
      "Score:  [0.81168831 0.76623377 0.67532468 0.72077922 0.64935065 0.7125\n",
      " 0.8        0.6125     0.6375     0.75714286]\n",
      "Promedio:  0.7143019480519481\n",
      "Iteración:  8\n",
      "Score:  [0.88311688 0.79220779 0.67532468 0.72077922 0.53246753 0.825\n",
      " 0.85       0.5125     0.6375     0.80714286]\n",
      "Promedio:  0.723603896103896\n",
      "Iteración:  9\n",
      "Score:  [0.88311688 0.79220779 0.67532468 0.72077922 0.53246753 0.7125\n",
      " 0.85       0.5625     0.6375     0.75714286]\n",
      "Promedio:  0.7123538961038961\n"
     ]
    },
    {
     "data": {
      "text/plain": [
       "0.7123538961038961"
      ]
     },
     "execution_count": 10,
     "metadata": {},
     "output_type": "execute_result"
    }
   ],
   "source": [
    "metodo_evaluacion_robusta(titanic, atributos_titanic, objetivo_titanic, 10, 10)"
   ]
  },
  {
   "cell_type": "code",
   "execution_count": null,
   "metadata": {},
   "outputs": [],
   "source": []
  }
 ],
 "metadata": {
  "kernelspec": {
   "display_name": "Python 3",
   "language": "python",
   "name": "python3"
  },
  "language_info": {
   "codemirror_mode": {
    "name": "ipython",
    "version": 3
   },
   "file_extension": ".py",
   "mimetype": "text/x-python",
   "name": "python",
   "nbconvert_exporter": "python",
   "pygments_lexer": "ipython3",
   "version": "3.7.6"
  }
 },
 "nbformat": 4,
 "nbformat_minor": 4
}
